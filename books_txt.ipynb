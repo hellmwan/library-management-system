{
  "nbformat": 4,
  "nbformat_minor": 0,
  "metadata": {
    "colab": {
      "provenance": [],
      "authorship_tag": "ABX9TyPo36iGJ1p/BRTYy/0rpRQ4",
      "include_colab_link": true
    },
    "kernelspec": {
      "name": "python3",
      "display_name": "Python 3"
    },
    "language_info": {
      "name": "python"
    }
  },
  "cells": [
    {
      "cell_type": "markdown",
      "metadata": {
        "id": "view-in-github",
        "colab_type": "text"
      },
      "source": [
        "<a href=\"https://colab.research.google.com/github/hellmwan/library-management-system/blob/main/books_txt.ipynb\" target=\"_parent\"><img src=\"https://colab.research.google.com/assets/colab-badge.svg\" alt=\"Open In Colab\"/></a>"
      ]
    },
    {
      "cell_type": "code",
      "source": [
        "class Library:\n",
        "    def __init__(self):\n",
        "        self.booklist = {}\n",
        "\n",
        "    def addbook(self, title, author, year, pages):\n",
        "        with open('books.txt', 'a+') as file:\n",
        "            file.write(f\"{title},{author},{year},{pages}\\n\")\n",
        "        self.booklist[title] = {'author': author, 'year': year, 'pages': pages}\n",
        "\n",
        "    def listbooks(self):\n",
        "        if not self.booklist:\n",
        "            print(\"The list is empty..\")\n",
        "        else:\n",
        "            for title, book_info in self.booklist.items():\n",
        "                print(f\"{title}, {book_info['author']}, {book_info['year']}, {book_info['pages']}\")\n",
        "\n",
        "    def removebook(self, title):\n",
        "        if title in self.booklist:\n",
        "            del self.booklist[title]\n",
        "            print(\"Book is deleted.\")\n",
        "        else:\n",
        "            print(\"Book not found.\")\n",
        "\n",
        "print(\"***MENU***\\n1)List Books\\n2)Add Book\\n3)Remove Book\\n4)Quit\")\n",
        "print(\"Enter your choice\")\n",
        "\n",
        "library = Library()\n",
        "\n",
        "choic = input()\n",
        "\n",
        "if choic == \"2\":\n",
        "    print(\"Enter the book title\")\n",
        "    title = input()\n",
        "    print(\"Enter the author\")\n",
        "    author = input()\n",
        "    print(\"Enter the release year\")\n",
        "    year = input()\n",
        "    print(\"Enter the number of pages\")\n",
        "    pages = input()\n",
        "    library.addbook(title, author, year, pages)\n",
        "\n",
        "elif choic == \"1\":\n",
        "    library.listbooks()\n",
        "\n",
        "elif choic == \"3\":\n",
        "    print(\"Enter the title of the book to remove:\")\n",
        "    title = input()\n",
        "    library.removebook(title)\n",
        "\n",
        "elif choic == \"Q\":\n",
        "    print(\"Quitting...\")\n",
        "\n",
        "else:\n",
        "    print(\"Please choose right option...\")\n"
      ],
      "metadata": {
        "colab": {
          "base_uri": "https://localhost:8080/"
        },
        "id": "_rs2ZDrb8JLx",
        "outputId": "11ae4f2c-ca11-4618-9f23-efb68c7286c4"
      },
      "execution_count": null,
      "outputs": [
        {
          "name": "stdout",
          "output_type": "stream",
          "text": [
            "***MENU***\n",
            "1)List Books\n",
            "2)Add Book\n",
            "3)Remove Book\n",
            "4)Quit\n",
            "Enter your choice\n",
            "2\n",
            "Enter the book title\n",
            "S\n",
            "Enter the author\n",
            "S\n",
            "Enter the release year\n",
            "S\n",
            "Enter the number of pages\n",
            "S\n"
          ]
        }
      ]
    }
  ]
}